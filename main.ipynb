{
 "cells": [
  {
   "cell_type": "code",
   "execution_count": null,
   "metadata": {
    "pycharm": {
     "name": "#%%\n"
    }
   },
   "outputs": [],
   "source": []
  },
  {
   "cell_type": "code",
   "execution_count": 1,
   "metadata": {
    "pycharm": {
     "name": "#%%\n"
    }
   },
   "outputs": [],
   "source": [
    "# from disent.systems.vae import VaeSystem\n",
    "# vae = train_loop(*make_system('ada-gvae', 'radam'), 3)\n",
    "# display_generated_grid(vae)"
   ]
  },
  {
   "cell_type": "code",
   "execution_count": 2,
   "metadata": {
    "pycharm": {
     "name": "#%%\n"
    }
   },
   "outputs": [],
   "source": [
    "# vae = train_loop(*make_system('vae', 'radam'), 4)\n",
    "# display_generated_grid(vae)"
   ]
  },
  {
   "cell_type": "code",
   "execution_count": 3,
   "metadata": {
    "pycharm": {
     "name": "#%%\n"
    }
   },
   "outputs": [],
   "source": [
    "# vae = train_loop(*make_system('beta-vae', 'radam'), 4)\n",
    "# display_generated_grid(vae)"
   ]
  },
  {
   "cell_type": "code",
   "execution_count": null,
   "metadata": {
    "pycharm": {
     "name": "#%%\n"
    }
   },
   "outputs": [
    {
     "name": "stderr",
     "output_type": "stream",
     "text": [
      "INFO:lightning:GPU available: True, used: True\n",
      "INFO:lightning:VISIBLE GPUS: 0\n",
      "INFO:lightning:\n",
      "   | Name                              | Type                 | Params\n",
      "-----------------------------------------------------------------------\n",
      "0  | model                             | GaussianEncoderModel | 6 M   \n",
      "1  | model.gaussian_encoder            | EncoderSimpleFC      | 3 M   \n",
      "2  | model.gaussian_encoder.model      | Sequential           | 3 M   \n",
      "3  | model.gaussian_encoder.model.0    | Flatten3D            | 0     \n",
      "4  | model.gaussian_encoder.model.1    | Linear               | 3 M   \n",
      "5  | model.gaussian_encoder.model.2    | ReLU                 | 0     \n",
      "6  | model.gaussian_encoder.model.3    | Linear               | 32 K  \n",
      "7  | model.gaussian_encoder.model.4    | ReLU                 | 0     \n",
      "8  | model.gaussian_encoder.enc3mean   | Linear               | 774   \n",
      "9  | model.gaussian_encoder.enc3logvar | Linear               | 774   \n",
      "10 | model.decoder                     | DecoderSimpleFC      | 3 M   \n",
      "11 | model.decoder.model               | Sequential           | 3 M   \n",
      "12 | model.decoder.model.0             | Linear               | 896   \n",
      "13 | model.decoder.model.1             | ReLU                 | 0     \n",
      "14 | model.decoder.model.2             | Linear               | 33 K  \n",
      "15 | model.decoder.model.3             | ReLU                 | 0     \n",
      "16 | model.decoder.model.4             | Linear               | 3 M   \n"
     ]
    },
    {
     "data": {
      "application/vnd.jupyter.widget-view+json": {
       "model_id": "3c8a0317da9e4d61bf126e45a8f652c9",
       "version_major": 2,
       "version_minor": 0
      },
      "text/plain": [
       "HBox(children=(FloatProgress(value=1.0, bar_style='info', layout=Layout(flex='2'), max=1.0), HTML(value='')), …"
      ]
     },
     "metadata": {},
     "output_type": "display_data"
    },
    {
     "name": "stderr",
     "output_type": "stream",
     "text": [
      "/home/nmichlo/.pyenv/versions/miniconda3-latest/envs/disentangle/lib/python3.8/site-packages/pytorch_lightning/utilities/warnings.py:18: RuntimeWarning: Displayed epoch numbers in the progress bar start from \"1\" until v0.6.x, but will start from \"0\" in v0.8.0.\n",
      "  warnings.warn(*args, **kwargs)\n"
     ]
    }
   ],
   "source": [
    "from disent.systems.vae import VaeSystem\n",
    "from disent.util import plt_show_grid\n",
    "import numpy as np\n",
    "import torch\n",
    "\n",
    "EPOCHS = 1\n",
    "\n",
    "PATH = 'data/trained-3dshapes-1.ckpt'\n",
    "\n",
    "LOAD = False   # not working for some reason\n",
    "TRAIN = True\n",
    "SAVE = True\n",
    "\n",
    "system = VaeSystem(dataset_train='3dshapes', loss='ada-gvae', hparams=dict(workers=8, batch_size=64))\n",
    "\n",
    "if LOAD:\n",
    "    system.load_from_checkpoint(checkpoint_path=PATH)\n",
    "    \n",
    "if TRAIN:\n",
    "    trainer = system.quick_train(epochs=EPOCHS)\n",
    "\n",
    "    if SAVE:\n",
    "        trainer.save_checkpoint(PATH)"
   ]
  },
  {
   "cell_type": "code",
   "execution_count": null,
   "outputs": [],
   "source": [
    "from PIL import Image\n",
    "\n",
    "samples = system.model.decode_from_gaussian_samples(16)\n",
    "samples = samples.cpu().detach().numpy()\n",
    "samples = np.uint8(samples * 255)\n",
    "samples = np.moveaxis(samples.reshape(-1, 3, 64, 64), 1, -1)\n",
    "\n",
    "plt_show_grid(samples)"
   ],
   "metadata": {
    "collapsed": false,
    "pycharm": {
     "name": "#%%\n"
    }
   }
  },
  {
   "cell_type": "code",
   "execution_count": null,
   "outputs": [],
   "source": [
    "\n"
   ],
   "metadata": {
    "collapsed": false,
    "pycharm": {
     "name": "#%%\n"
    }
   }
  },
  {
   "cell_type": "code",
   "execution_count": null,
   "outputs": [],
   "source": [],
   "metadata": {
    "collapsed": false,
    "pycharm": {
     "name": "#%%\n"
    }
   }
  },
  {
   "cell_type": "code",
   "execution_count": null,
   "metadata": {},
   "outputs": [],
   "source": []
  },
  {
   "cell_type": "code",
   "execution_count": null,
   "metadata": {},
   "outputs": [],
   "source": [
    "\n"
   ]
  },
  {
   "cell_type": "code",
   "execution_count": null,
   "metadata": {},
   "outputs": [],
   "source": []
  }
 ],
 "metadata": {
  "kernelspec": {
   "display_name": "Python 3",
   "language": "python",
   "name": "python3"
  },
  "language_info": {
   "codemirror_mode": {
    "name": "ipython",
    "version": 3
   },
   "file_extension": ".py",
   "mimetype": "text/x-python",
   "name": "python",
   "nbconvert_exporter": "python",
   "pygments_lexer": "ipython3",
   "version": "3.8.2"
  }
 },
 "nbformat": 4,
 "nbformat_minor": 1
}